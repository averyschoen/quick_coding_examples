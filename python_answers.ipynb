{
 "cells": [
  {
   "cell_type": "markdown",
   "id": "bfc323a8",
   "metadata": {},
   "source": [
    "## Sonya's Interview Python Question\n",
    "Write a function that takes two strings, determine if there is one character that is different, and return that character"
   ]
  },
  {
   "cell_type": "code",
   "execution_count": 3,
   "id": "d0437e09",
   "metadata": {},
   "outputs": [],
   "source": [
    "def one_char_dif():\n",
    "    str1 = input(\"enter string 1 -> \")\n",
    "    str2 = input(\"enter string 2 -> \")\n",
    "    if str1 == str2 or abs(len(str1) - len(str2)) > 1:\n",
    "        return\n",
    "    \n",
    "    i = 0\n",
    "    dif = []\n",
    "    \n",
    "    if len(str1) == len(str2): #character swap\n",
    "        for char in str1: \n",
    "            if char == str2[i]: \n",
    "                i+=1\n",
    "            else:\n",
    "                dif.append(str2[i])\n",
    "                i+=1\n",
    "        \n",
    "    elif len(str1) - len(str2) == 1: #deletion\n",
    "        for char in str2: \n",
    "            if char == str1[i]: \n",
    "                i+=1\n",
    "            else:\n",
    "                #print(char + \"->\" + str1[i])\n",
    "                dif.append(str1[i])\n",
    "                i+=2\n",
    "        if len(dif) == 0:\n",
    "            dif.append(str1[i])\n",
    "\n",
    "    elif len(str1) - len(str2) == -1: #addition\n",
    "        for char in str1: \n",
    "            if char == str2[i]: \n",
    "                i+=1\n",
    "            else:\n",
    "                #print(char + \"->\" + str2[i])\n",
    "                dif.append(str2[i])\n",
    "                i+=2\n",
    "        if len(dif) == 0:\n",
    "            dif.append(str2[i])\n",
    "    \n",
    "    if len(dif) != 1:\n",
    "            return\n",
    "    else:\n",
    "        return dif[0]"
   ]
  },
  {
   "cell_type": "code",
   "execution_count": 4,
   "id": "633b69b3",
   "metadata": {},
   "outputs": [
    {
     "name": "stdout",
     "output_type": "stream",
     "text": [
      "enter string 1 -> helloo\n",
      "enter string 2 -> hellooo\n"
     ]
    },
    {
     "data": {
      "text/plain": [
       "'o'"
      ]
     },
     "execution_count": 4,
     "metadata": {},
     "output_type": "execute_result"
    }
   ],
   "source": [
    "one_char_dif()"
   ]
  },
  {
   "cell_type": "markdown",
   "id": "64a4a4f6",
   "metadata": {},
   "source": [
    "## Principal Data Engineering Question\n",
    "vending machine string"
   ]
  }
 ],
 "metadata": {
  "kernelspec": {
   "display_name": "Python 3 (ipykernel)",
   "language": "python",
   "name": "python3"
  },
  "language_info": {
   "codemirror_mode": {
    "name": "ipython",
    "version": 3
   },
   "file_extension": ".py",
   "mimetype": "text/x-python",
   "name": "python",
   "nbconvert_exporter": "python",
   "pygments_lexer": "ipython3",
   "version": "3.8.2"
  }
 },
 "nbformat": 4,
 "nbformat_minor": 5
}
